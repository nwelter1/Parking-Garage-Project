{
 "cells": [
  {
   "cell_type": "markdown",
   "metadata": {},
   "source": [
    "# Parking Garage Project\n",
    "\n",
    "Your assignment for today is to create a parking garage class to get more familiar with Object Oriented Programming(OOP). \n",
    "\n",
    "Your parking gargage class should have the following methods:\n",
    "- takeTicket\n",
    "   - This should decrease the amount of tickets available by 1\n",
    "   - This should decrease the amount of parkingSpaces available by 1\n",
    "- payForParking\n",
    "   - Display an input that waits for an amount from the user and store it in a variable\n",
    "   - If the payment variable is not empty then ->  display a message to the user that their ticket has been paid and they have 15mins to leave\n",
    "   - This should update the \"currentTicket\" dictionary key \"paid\" to True\n",
    "-leaveGarage\n",
    "   - If the ticket has been paid, display a message of \"Thank You, have a nice day\"\n",
    "   - If the ticket has not been paid, display an input prompt for payment\n",
    "      - Once paid, display message \"Thank you, have a nice day!\"\n",
    "   - Update parkingSpaces list to increase by 1\n",
    "   - Update tickets list to increase by 1\n",
    "\n",
    "You will need a few attributes as well:\n",
    "- tickets -> list\n",
    "- parkingSpaces -> list\n",
    "- currentTicket -> dictionary"
   ]
  },
  {
   "cell_type": "code",
   "execution_count": null,
   "metadata": {},
   "outputs": [
    {
     "name": "stdout",
     "output_type": "stream",
     "text": [
      "Please take your ticket...\n",
      "{1: ''}\n",
      "[2, 3, 4, 5]\n"
     ]
    }
   ],
   "source": [
    "class Garage():\n",
    "    def __init__(self,tickets,parkingSpaces,currentTicket):\n",
    "        self.tickets = tickets\n",
    "        self.parkingSpaces = parkingSpaces\n",
    "        self.currentTicket = currentTicket\n",
    "    \n",
    "    def takeTicket(self):\n",
    "        self.currentTicket[self.tickets[0]] = ''\n",
    "        del self.tickets[0]\n",
    "        del self.parkingSpaces[0]\n",
    "        print('Please take your ticket...')\n",
    "        print(self.currentTicket)\n",
    "        print(self.tickets)\n",
    "\n",
    "    def payForParking(self):\n",
    "        response = int(input('Please enter your ticket number:'))\n",
    "        if self.currentTicket[response] == '':\n",
    "            print('Please pay for your ticket...')\n",
    "            payment = input('Press any key to pay..')\n",
    "            self.currentTicket[response] = 'Paid'\n",
    "            print(self.currentTicket)\n",
    "        else:\n",
    "            print('you have 15 min 2 leave')\n",
    "            \n",
    "p_garage = Garage([1,2,3,4,5],[1,2,3,4,5],{})\n",
    "\n",
    "p_garage.takeTicket()\n",
    "p_garage.payForParking()"
   ]
  }
 ],
 "metadata": {
  "kernelspec": {
   "display_name": "Python 3",
   "language": "python",
   "name": "python3"
  },
  "language_info": {
   "codemirror_mode": {
    "name": "ipython",
    "version": 3
   },
   "file_extension": ".py",
   "mimetype": "text/x-python",
   "name": "python",
   "nbconvert_exporter": "python",
   "pygments_lexer": "ipython3",
   "version": "3.7.6"
  }
 },
 "nbformat": 4,
 "nbformat_minor": 2
}
